{
 "cells": [
  {
   "cell_type": "markdown",
   "metadata": {},
   "source": [
    "# Random plot generator\n",
    "# Meghnath Pokharel\n",
    "# 18th Feb"
   ]
  },
  {
   "cell_type": "code",
   "execution_count": 1,
   "metadata": {},
   "outputs": [],
   "source": [
    "#Importing Module\n",
    "import random"
   ]
  },
  {
   "cell_type": "code",
   "execution_count": 2,
   "metadata": {},
   "outputs": [
    {
     "name": "stdout",
     "output_type": "stream",
     "text": [
      "Replication: 1 ['N25', 'N0', 'N50', 'N100', 'N200']\n",
      "Replication: 2 ['N100', 'N0', 'N50', 'N25', 'N200']\n",
      "Replication: 3 ['N200', 'N25', 'N0', 'N50', 'N100']\n",
      "Replication: 4 ['N50', 'N100', 'N200', 'N0', 'N25']\n"
     ]
    }
   ],
   "source": [
    "# Randomization for Completely randomized block design\n",
    "# Inputs\n",
    "treatments = ['N0', 'N25', 'N50', 'N100','N200'] # Assigning treatments, N in kg/ha \n",
    "rep = 4 # Assigning replications \n",
    "\n",
    "for i in range(1, rep+1): # for loops\n",
    "    temp = random.sample(treatments,k=5) #  Code for Completely randomized block design ## Multiple elements WITHOUT replacement\n",
    "    print(\"Replication:\", i, str(temp)) # Print the labels"
   ]
  },
  {
   "cell_type": "code",
   "execution_count": 3,
   "metadata": {},
   "outputs": [
    {
     "name": "stdout",
     "output_type": "stream",
     "text": [
      "Replication: 1 ['N200', 'N25', 'N100', 'N25', 'N25']\n",
      "Replication: 2 ['N0', 'N200', 'N25', 'N100', 'N200']\n",
      "Replication: 3 ['N50', 'N50', 'N100', 'N100', 'N0']\n",
      "Replication: 4 ['N25', 'N50', 'N0', 'N0', 'N100']\n"
     ]
    }
   ],
   "source": [
    "# Randomization for Completely randomized design\n",
    "#Inputs\n",
    "treatments = ['N0', 'N25', 'N50', 'N100','N200'] # Assigning treatments, N in kg/ha \n",
    "rep = 4 # Assigning replications \n",
    "\n",
    "for i in range(1, rep+1): # for loops\n",
    "    temp = random.choices(treatments,k=5) #  Code for Completely randomized design ## Multiple elements WITH replacement\n",
    "    print(\"Replication:\", i, str(temp) ) # Print the labels"
   ]
  }
 ],
 "metadata": {
  "kernelspec": {
   "display_name": "Python 3",
   "language": "python",
   "name": "python3"
  },
  "language_info": {
   "codemirror_mode": {
    "name": "ipython",
    "version": 3
   },
   "file_extension": ".py",
   "mimetype": "text/x-python",
   "name": "python",
   "nbconvert_exporter": "python",
   "pygments_lexer": "ipython3",
   "version": "3.7.4"
  }
 },
 "nbformat": 4,
 "nbformat_minor": 4
}
